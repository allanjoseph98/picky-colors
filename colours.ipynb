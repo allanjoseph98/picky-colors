{
  "cells": [
    {
      "cell_type": "markdown",
      "metadata": {},
      "source": [
        "Towards the end of August 2024, Lichess forbade people from choosing their color in lobby seeks.\n",
        "Time to investigate how much of an effect it had using the Lichess database dumps."
      ]
    },
    {
      "cell_type": "code",
      "execution_count": 1,
      "metadata": {},
      "outputs": [],
      "source": [
        "import pandas as pd\n",
        "\n",
        "\n",
        "def read_csv(file: str) -> pd.DataFrame:\n",
        "    df = pd.read_csv(\n",
        "        file,\n",
        "        engine=\"pyarrow\",\n",
        "        dtype_backend=\"pyarrow\",\n",
        "    )\n",
        "    df[\"white\"] = df[\"white\"].str.lower()\n",
        "    df[\"black\"] = df[\"black\"].str.lower()\n",
        "    return df\n",
        "\n",
        "\n",
        "def split_black_white(df: pd.DataFrame):\n",
        "    return df.groupby([\"white\"])[\"id\"].count(), df.groupby([\"black\"])[\"id\"].count()\n",
        "\n",
        "\n",
        "def combine_black_white(white_games: pd.Series, black_games: pd.Series) -> pd.DataFrame:\n",
        "    games = pd.merge(\n",
        "        white_games, black_games, left_index=True, right_index=True, how=\"outer\"\n",
        "    )\n",
        "    games.columns = [\"white\", \"black\"]\n",
        "    games.fillna(0, inplace=True)\n",
        "    games[\"total\"] = games[\"white\"] + games[\"black\"]\n",
        "    return games\n",
        "\n",
        "\n",
        "df = read_csv(\"F:\\\\lichess_dbs\\\\lichess_db_standard_rated_2024-08.pgn.zst.csv\")"
      ]
    },
    {
      "cell_type": "code",
      "execution_count": 2,
      "metadata": {},
      "outputs": [],
      "source": [
        "games = combine_black_white(*split_black_white(df))"
      ]
    },
    {
      "cell_type": "markdown",
      "metadata": {},
      "source": [
        "\n",
        "A picky player is an active player* that has played at least 80% of their games as one color only\n",
        "###### *An active player is a player that has played at least 10 games in a given month. Any future references to players or playerbase will only look at active players"
      ]
    },
    {
      "cell_type": "code",
      "execution_count": 3,
      "metadata": {},
      "outputs": [
        {
          "name": "stdout",
          "output_type": "stream",
          "text": [
            "picky players: 5232 total players: 1154317\n",
            "picky players games: 588553 total players games: 182163175\n"
          ]
        }
      ],
      "source": [
        "picky = games.loc[(games['total']>=10) & (~(games['black']/games['total']).between(0.2,0.8))]\n",
        "print('picky players:', len(picky), 'total players:', len(games.loc[games['total']>=10]))\n",
        "print('picky players games:', picky['total'].sum(), 'total players games:', games.loc[games['total']>=10]['total'].sum())"
      ]
    },
    {
      "cell_type": "markdown",
      "metadata": {},
      "source": [
        "There were 5232 picky players in August. That is 0.45% of active players in August"
      ]
    },
    {
      "cell_type": "code",
      "execution_count": 5,
      "metadata": {},
      "outputs": [
        {
          "data": {
            "text/plain": [
              "0.453255041725973"
            ]
          },
          "execution_count": 5,
          "metadata": {},
          "output_type": "execute_result"
        }
      ],
      "source": [
        "5232 / 1154317 * 100"
      ]
    },
    {
      "cell_type": "markdown",
      "metadata": {},
      "source": [
        "They were part of/responsible for 0.32% of games played by active players in August"
      ]
    },
    {
      "cell_type": "code",
      "execution_count": 6,
      "metadata": {},
      "outputs": [
        {
          "data": {
            "text/plain": [
              "0.3230910967598144"
            ]
          },
          "execution_count": 6,
          "metadata": {},
          "output_type": "execute_result"
        }
      ],
      "source": [
        "588553  / 182163175 * 100"
      ]
    },
    {
      "cell_type": "markdown",
      "metadata": {},
      "source": [
        "Going into this, I was under the assumption that of the picky players, those favouring white far outnumbered those who preferred black. Turns out, I was right and that number is about 73%."
      ]
    },
    {
      "cell_type": "code",
      "execution_count": 7,
      "metadata": {},
      "outputs": [
        {
          "name": "stdout",
          "output_type": "stream",
          "text": [
            "3846 73.5091743119266\n"
          ]
        }
      ],
      "source": [
        "prefers_white = picky.loc[(picky['black']/picky['total'])<=0.2]\n",
        "prefers_black = picky.loc[(picky['black']/picky['total'])>=0.8]\n",
        "print(len(prefers_white), len(prefers_white) / (len(prefers_white)+len(prefers_black)) * 100)"
      ]
    },
    {
      "cell_type": "markdown",
      "metadata": {},
      "source": [
        "Do  it all again for September"
      ]
    },
    {
      "cell_type": "code",
      "execution_count": 8,
      "metadata": {},
      "outputs": [],
      "source": [
        "del df\n",
        "df = read_csv(\n",
        "    \"F:\\\\lichess_dbs\\\\lichess_db_standard_rated_2024-09.pgn.zst.csv\"\n",
        ")  # Reuse variables because RIP my RAM"
      ]
    },
    {
      "cell_type": "code",
      "execution_count": 9,
      "metadata": {},
      "outputs": [],
      "source": [
        "games = combine_black_white(*split_black_white(df))"
      ]
    },
    {
      "cell_type": "markdown",
      "metadata": {},
      "source": [
        "Players still managed to remain picky in September by finding the yin to their yang to serially direct challenge ☯️"
      ]
    },
    {
      "cell_type": "code",
      "execution_count": 10,
      "metadata": {},
      "outputs": [
        {
          "name": "stdout",
          "output_type": "stream",
          "text": [
            "picky players: 420 total players: 1165865\n",
            "picky players games: 21032 total players games: 173066143\n"
          ]
        }
      ],
      "source": [
        "picky_sept = games.loc[(games['total']>=10) & (~(games['black']/games['total']).between(0.2,0.8))]\n",
        "print('picky players:', len(picky_sept), 'total players:', len(games.loc[games['total']>=10]))\n",
        "print('picky players games:', picky_sept['total'].sum(), 'total players games:', games.loc[games['total']>=10]['total'].sum())"
      ]
    },
    {
      "cell_type": "markdown",
      "metadata": {},
      "source": [
        "There were still 420 picky players in September. That is 0.036% of the active players in September. (A 92% drop from August)🔻"
      ]
    },
    {
      "cell_type": "code",
      "execution_count": 12,
      "metadata": {},
      "outputs": [
        {
          "name": "stdout",
          "output_type": "stream",
          "text": [
            "0.036024754152496216\n",
            "92.0\n"
          ]
        }
      ],
      "source": [
        "print(420 / 1165865 * 100)\n",
        "print((0.45-0.036)/0.45 * 100)"
      ]
    },
    {
      "cell_type": "markdown",
      "metadata": {},
      "source": [
        "They were responsible for 0.01% of the games played by active players in September. (A 96% drop from August)🔻"
      ]
    },
    {
      "cell_type": "code",
      "execution_count": 15,
      "metadata": {},
      "outputs": [
        {
          "name": "stdout",
          "output_type": "stream",
          "text": [
            "0.012152579144263936\n",
            "96.25\n"
          ]
        }
      ],
      "source": [
        "print(21032 / 173066143 * 100)\n",
        "print((0.32-0.012)/0.32 * 100)"
      ]
    },
    {
      "cell_type": "markdown",
      "metadata": {},
      "source": [
        "Of the 420 picky players in September, 294 (=79%) were not seen before in August. i.e. they either developed the sudden urge to play with one color in Sept. Or they returned from a hiatus from August. Or their accounts are brand new trying to avoid repaying their color debt. "
      ]
    },
    {
      "cell_type": "code",
      "execution_count": 16,
      "metadata": {},
      "outputs": [
        {
          "name": "stdout",
          "output_type": "stream",
          "text": [
            "new picky players in Sept: 294\n",
            "78.99159663865547\n"
          ]
        }
      ],
      "source": [
        "print('new picky players in Sept:', len(picky_sept.loc[~picky_sept.index.isin(picky.index)]))\n",
        "print(282/357*100)"
      ]
    },
    {
      "cell_type": "markdown",
      "metadata": {},
      "source": [
        "A reformer is a former picky player that has since adopted the ways of forced 50/50 in September."
      ]
    },
    {
      "cell_type": "code",
      "execution_count": 23,
      "metadata": {},
      "outputs": [
        {
          "name": "stdout",
          "output_type": "stream",
          "text": [
            "3429 428864\n"
          ]
        }
      ],
      "source": [
        "reformers = games.loc[(games['total']>=10) & (games.index.isin(picky.index)) & (~games.index.isin(picky_sept.index))]\n",
        "print(len(reformers), reformers['total'].sum())"
      ]
    },
    {
      "cell_type": "markdown",
      "metadata": {},
      "source": [
        "Of the 5232 picky players in August, 3429(=65.5%) have reformed (!)."
      ]
    },
    {
      "cell_type": "code",
      "execution_count": 18,
      "metadata": {},
      "outputs": [
        {
          "name": "stdout",
          "output_type": "stream",
          "text": [
            "65.53899082568807\n"
          ]
        }
      ],
      "source": [
        "print(3429 / 5232 * 100)"
      ]
    },
    {
      "cell_type": "markdown",
      "metadata": {},
      "source": [
        "What about the remaining 1803 picky players?\n",
        "1. 773 never played a game at all in September. Maybe they were unwilling to adapt.\n",
        "2. 904 never become active in September. Maybe they tried some games, saw they could not force their choice and gave up.\n",
        "3. 126 remained picky in September as well. As detailed earlier ☯️\n"
      ]
    },
    {
      "cell_type": "code",
      "execution_count": 39,
      "metadata": {},
      "outputs": [
        {
          "name": "stdout",
          "output_type": "stream",
          "text": [
            "773\n",
            "904\n",
            "126\n"
          ]
        }
      ],
      "source": [
        "print(len(picky.loc[~picky.index.isin(games.index)])) # August picky players that have not played in September\n",
        "print(len(games.loc[(games.index.isin(picky.index) & (games['total'] < 10))])) # August picky players that did not become active in September\n",
        "print(len(games.loc[(games.index.isin(picky.index) & (games.index.isin(picky_sept.index)))])) # Remained picky"
      ]
    },
    {
      "cell_type": "markdown",
      "metadata": {},
      "source": [
        "Endnote: Because we are limited to data from the database exports, we can only look at rated standard games. Casual games and anonymous are out of our purview.\n",
        "Likewise, we cannot look at games played against the lichess ai (as I saw some accounts did use as a sort of cope)"
      ]
    }
  ],
  "metadata": {
    "kernelspec": {
      "display_name": "Python 3",
      "language": "python",
      "name": "python3"
    },
    "language_info": {
      "codemirror_mode": {
        "name": "ipython",
        "version": 3
      },
      "file_extension": ".py",
      "mimetype": "text/x-python",
      "name": "python",
      "nbconvert_exporter": "python",
      "pygments_lexer": "ipython3",
      "version": "3.10.10"
    }
  },
  "nbformat": 4,
  "nbformat_minor": 2
}
